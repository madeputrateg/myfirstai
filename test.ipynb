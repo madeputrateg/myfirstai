{
 "cells": [
  {
   "cell_type": "code",
   "execution_count": 1,
   "metadata": {},
   "outputs": [],
   "source": [
    "import os\n",
    "import cv2\n",
    "import time\n",
    "import mediapipe as mp\n",
    "import uuid\n",
    "import keyboard\n",
    "import numpy as np\n",
    "import pandas as pd\n",
    "from sklearn.model_selection import train_test_split\n",
    "from sklearn.ensemble import RandomForestClassifier"
   ]
  },
  {
   "cell_type": "code",
   "execution_count": 39,
   "metadata": {},
   "outputs": [],
   "source": [
    "label=[\"batu\",\"kertas\",\"guting\"]\n",
    "numofimage=20\n",
    "hashmap={\"batu\":0,\"kertas\":1,\"guting\":2}"
   ]
  },
  {
   "cell_type": "code",
   "execution_count": 3,
   "metadata": {},
   "outputs": [],
   "source": [
    "mp_drawing = mp.solutions.drawing_utils\n",
    "mp_drawing_styles = mp.solutions.drawing_styles\n",
    "mp_hands = mp.solutions.hands"
   ]
  },
  {
   "cell_type": "code",
   "execution_count": 4,
   "metadata": {},
   "outputs": [
    {
     "ename": "FileExistsError",
     "evalue": "[WinError 183] Cannot create a file when that file already exists: './images/batu'",
     "output_type": "error",
     "traceback": [
      "\u001b[1;31m---------------------------------------------------------------------------\u001b[0m",
      "\u001b[1;31mFileExistsError\u001b[0m                           Traceback (most recent call last)",
      "\u001b[1;32m~\\AppData\\Local\\Temp\\ipykernel_419756\\357233620.py\u001b[0m in \u001b[0;36m<module>\u001b[1;34m\u001b[0m\n\u001b[0;32m      1\u001b[0m \u001b[1;32mfor\u001b[0m \u001b[0mlabe\u001b[0m \u001b[1;32min\u001b[0m \u001b[0mlabel\u001b[0m\u001b[1;33m:\u001b[0m\u001b[1;33m\u001b[0m\u001b[0m\n\u001b[1;32m----> 2\u001b[1;33m     \u001b[0mos\u001b[0m\u001b[1;33m.\u001b[0m\u001b[0mmkdir\u001b[0m\u001b[1;33m(\u001b[0m\u001b[1;34m\"./images/{}\"\u001b[0m\u001b[1;33m.\u001b[0m\u001b[0mformat\u001b[0m\u001b[1;33m(\u001b[0m\u001b[0mlabe\u001b[0m\u001b[1;33m)\u001b[0m\u001b[1;33m)\u001b[0m\u001b[1;33m\u001b[0m\u001b[0m\n\u001b[0m",
      "\u001b[1;31mFileExistsError\u001b[0m: [WinError 183] Cannot create a file when that file already exists: './images/batu'"
     ]
    }
   ],
   "source": [
    "for labe in label:\n",
    "    os.mkdir(\"./images/{}\".format(labe))"
   ]
  },
  {
   "cell_type": "code",
   "execution_count": 38,
   "metadata": {},
   "outputs": [
    {
     "name": "stdout",
     "output_type": "stream",
     "text": [
      "mencari gambar guting\n",
      "images/guting/gambar1guting.jpg\n",
      "images/guting/gambar2guting.jpg\n",
      "images/guting/gambar3guting.jpg\n",
      "images/guting/gambar4guting.jpg\n",
      "images/guting/gambar5guting.jpg\n",
      "images/guting/gambar6guting.jpg\n",
      "images/guting/gambar7guting.jpg\n",
      "images/guting/gambar8guting.jpg\n",
      "images/guting/gambar9guting.jpg\n",
      "images/guting/gambar10guting.jpg\n",
      "images/guting/gambar11guting.jpg\n",
      "images/guting/gambar12guting.jpg\n",
      "images/guting/gambar13guting.jpg\n",
      "images/guting/gambar14guting.jpg\n",
      "images/guting/gambar15guting.jpg\n",
      "images/guting/gambar16guting.jpg\n",
      "images/guting/gambar17guting.jpg\n",
      "images/guting/gambar18guting.jpg\n",
      "images/guting/gambar19guting.jpg\n",
      "images/guting/gambar20guting.jpg\n"
     ]
    }
   ],
   "source": [
    "cap = cv2.VideoCapture(0)\n",
    "\n",
    "with mp_hands.Hands(\n",
    "    static_image_mode=True,\n",
    "    max_num_hands=2,\n",
    "    min_detection_confidence=0.5) as hands:\n",
    "    for labe in label:\n",
    "        print(\"mencari gambar {}\".format(labe))\n",
    "        z=0\n",
    "        while z<numofimage:\n",
    "            success, image = cap.read()\n",
    "            if not success:\n",
    "                print(\"Ignoring empty camera frame.\")\n",
    "                continue\n",
    "            image.flags.writeable= False\n",
    "            mpimg=cv2.cvtColor(image,cv2.COLOR_BGR2RGB)\n",
    "            results=hands.process(mpimg)\n",
    "            image.flags.writeable = True\n",
    "            mpimg = cv2.cvtColor(mpimg, cv2.COLOR_RGB2BGR)\n",
    "            if results.multi_hand_landmarks:\n",
    "                for hand_landmarks in results.multi_hand_landmarks:\n",
    "                        mp_drawing.draw_landmarks(\n",
    "                            mpimg,\n",
    "                            hand_landmarks,\n",
    "                            mp_hands.HAND_CONNECTIONS,\n",
    "                            mp_drawing_styles.get_default_hand_landmarks_style(),\n",
    "                            mp_drawing_styles.get_default_hand_connections_style())\n",
    "            cv2.imshow('keluar',mpimg)\n",
    "            if keyboard.is_pressed('y'):\n",
    "                z=z+1\n",
    "                print(\"images/{}/{}.jpg\".format(labe,\"gambar\"+str(z)+labe))\n",
    "                cv2.imwrite(\"images/{}/{}.jpg\".format(labe,\"gambar\"+str(z)+labe),image)\n",
    "                time.sleep(1)\n",
    "            if cv2.waitKey(5) & 0xFF == ord('q'):\n",
    "                cap.release()\n",
    "                cv2. destroyAllWindows()\n",
    "                break\n",
    "cap.release()\n",
    "cv2. destroyAllWindows()"
   ]
  },
  {
   "cell_type": "code",
   "execution_count": 63,
   "metadata": {},
   "outputs": [],
   "source": [
    "cv2. destroyAllWindows()"
   ]
  },
  {
   "cell_type": "code",
   "execution_count": 41,
   "metadata": {},
   "outputs": [],
   "source": [
    "mp_drawing = mp.solutions.drawing_utils\n",
    "mp_drawing_styles = mp.solutions.drawing_styles\n",
    "mp_hands = mp.solutions.hands"
   ]
  },
  {
   "cell_type": "code",
   "execution_count": 40,
   "metadata": {},
   "outputs": [],
   "source": [
    "array=np.array([],ndmin=3)\n",
    "df_y=pd.DataFrame({'y':pd.Series(dtype='int')})\n"
   ]
  },
  {
   "cell_type": "code",
   "execution_count": 42,
   "metadata": {},
   "outputs": [],
   "source": [
    "with mp_hands.Hands(\n",
    "    static_image_mode=True,\n",
    "    max_num_hands=2,\n",
    "    min_detection_confidence=0.5) as hands:\n",
    "    for k in range(numofimage):\n",
    "        for idx, file in enumerate(label):\n",
    "            # Read an image, flip it around y-axis for correct handedness output (see\n",
    "            # above).\n",
    "            image = cv2.flip(cv2.imread(\"images/{}/{}.jpg\".format(file,\"gambar\"+str(9)+file)),1)\n",
    "            # Convert the BGR image to RGB before processing.\n",
    "            results = hands.process(cv2.cvtColor(image, cv2.COLOR_BGR2RGB))\n",
    "            # Print handedness and draw hand landmarks on the image.\n",
    "            if not results.multi_hand_landmarks:\n",
    "                continue\n",
    "            image_height, image_width, _ = image.shape\n",
    "            annotated_image = image.copy()\n",
    "            temparray=np.array([[i.x,i.y,i.z] for i in results.multi_hand_world_landmarks[0].landmark])\n",
    "            temparray=temparray.reshape((1,63))\n",
    "            array=np.append(array,[temparray])\n",
    "            df_y.loc[len(df_y)]={'y':hashmap[file]}\n",
    "    # Draw hand world landmarks.\n",
    "        \n"
   ]
  },
  {
   "cell_type": "code",
   "execution_count": 43,
   "metadata": {},
   "outputs": [
    {
     "name": "stdout",
     "output_type": "stream",
     "text": [
      "[[ 0.06999166  0.04428028  0.04478407 ... -0.01150896  0.03958318\n",
      "   0.04458234]\n",
      " [ 0.01418806  0.08254506  0.01956361 ...  0.03543501 -0.04641523\n",
      "  -0.04385572]\n",
      " [ 0.06541097  0.03898805  0.05437317 ...  0.00213686  0.044236\n",
      "   0.03365596]\n",
      " ...\n",
      " [ 0.06999166  0.04428028  0.04478407 ... -0.01150896  0.03958318\n",
      "   0.04458234]\n",
      " [ 0.01418806  0.08254506  0.01956361 ...  0.03543501 -0.04641523\n",
      "  -0.04385572]\n",
      " [ 0.06541097  0.03898805  0.05437317 ...  0.00213686  0.044236\n",
      "   0.03365596]]\n"
     ]
    }
   ],
   "source": [
    "df_x=pd.DataFrame(array.reshape(array.shape[0]//63,63))\n",
    "df_xinput=array.reshape(array.shape[0]//63,63)\n",
    "print(df_xinput)"
   ]
  },
  {
   "cell_type": "code",
   "execution_count": 44,
   "metadata": {},
   "outputs": [],
   "source": [
    "\n",
    "df_yinput=np.array(df_y)\n",
    "df_yinput=df_yinput.flatten()"
   ]
  },
  {
   "cell_type": "code",
   "execution_count": 45,
   "metadata": {},
   "outputs": [],
   "source": [
    "X_train,X_test,y_train,y_test=train_test_split(\n",
    "    df_xinput,df_yinput,test_size=0.33,random_state=42\n",
    ")"
   ]
  },
  {
   "cell_type": "code",
   "execution_count": 63,
   "metadata": {},
   "outputs": [],
   "source": [
    "clf = RandomForestClassifier(max_depth=20, random_state=6,n_estimators=5)"
   ]
  },
  {
   "cell_type": "code",
   "execution_count": 64,
   "metadata": {},
   "outputs": [
    {
     "data": {
      "text/plain": [
       "RandomForestClassifier(max_depth=20, n_estimators=5, random_state=6)"
      ]
     },
     "execution_count": 64,
     "metadata": {},
     "output_type": "execute_result"
    }
   ],
   "source": [
    "clf.fit(X_train,y_train)"
   ]
  },
  {
   "cell_type": "code",
   "execution_count": 65,
   "metadata": {},
   "outputs": [
    {
     "name": "stdout",
     "output_type": "stream",
     "text": [
      "1.0\n"
     ]
    }
   ],
   "source": [
    "print(clf.score(X_test,y_test))"
   ]
  },
  {
   "cell_type": "code",
   "execution_count": 66,
   "metadata": {},
   "outputs": [
    {
     "name": "stdout",
     "output_type": "stream",
     "text": [
      "1.0\n"
     ]
    }
   ],
   "source": [
    "print(clf.score(X_train,y_train))"
   ]
  },
  {
   "cell_type": "code",
   "execution_count": 67,
   "metadata": {},
   "outputs": [
    {
     "name": "stdout",
     "output_type": "stream",
     "text": [
      "kertas\n",
      "kertas\n",
      "kertas\n",
      "kertas\n",
      "kertas\n",
      "kertas\n",
      "kertas\n",
      "kertas\n",
      "kertas\n",
      "kertas\n",
      "kertas\n",
      "kertas\n",
      "guting\n",
      "guting\n",
      "guting\n",
      "guting\n",
      "guting\n",
      "guting\n",
      "guting\n",
      "guting\n",
      "guting\n",
      "guting\n",
      "guting\n",
      "guting\n",
      "guting\n",
      "guting\n",
      "guting\n",
      "guting\n",
      "guting\n",
      "guting\n",
      "guting\n",
      "guting\n",
      "guting\n",
      "guting\n",
      "guting\n",
      "kertas\n",
      "kertas\n",
      "guting\n",
      "guting\n",
      "guting\n",
      "guting\n",
      "guting\n",
      "guting\n",
      "guting\n",
      "guting\n",
      "guting\n",
      "guting\n",
      "guting\n",
      "guting\n",
      "guting\n",
      "batu\n",
      "batu\n",
      "kertas\n",
      "kertas\n",
      "kertas\n",
      "kertas\n",
      "kertas\n",
      "kertas\n",
      "kertas\n",
      "kertas\n",
      "kertas\n",
      "kertas\n",
      "kertas\n",
      "kertas\n",
      "kertas\n",
      "kertas\n",
      "kertas\n",
      "kertas\n",
      "kertas\n",
      "kertas\n",
      "kertas\n",
      "kertas\n",
      "batu\n",
      "batu\n",
      "kertas\n",
      "kertas\n",
      "batu\n",
      "batu\n",
      "batu\n",
      "batu\n",
      "batu\n",
      "batu\n",
      "batu\n",
      "batu\n",
      "guting\n",
      "guting\n",
      "guting\n",
      "guting\n",
      "guting\n",
      "guting\n",
      "guting\n",
      "guting\n",
      "batu\n",
      "batu\n",
      "kertas\n",
      "kertas\n",
      "kertas\n",
      "kertas\n",
      "kertas\n",
      "kertas\n",
      "batu\n",
      "batu\n",
      "batu\n",
      "guting\n",
      "guting\n",
      "guting\n",
      "guting\n",
      "guting\n",
      "guting\n",
      "guting\n",
      "kertas\n",
      "kertas\n",
      "kertas\n",
      "kertas\n",
      "kertas\n",
      "batu\n",
      "batu\n",
      "batu\n",
      "batu\n",
      "batu\n",
      "batu\n",
      "batu\n",
      "batu\n",
      "batu\n",
      "batu\n",
      "batu\n",
      "batu\n",
      "batu\n",
      "guting\n",
      "guting\n",
      "batu\n",
      "batu\n",
      "batu\n",
      "batu\n",
      "batu\n",
      "batu\n",
      "batu\n",
      "batu\n",
      "guting\n",
      "guting\n",
      "guting\n",
      "guting\n",
      "guting\n",
      "guting\n",
      "guting\n",
      "guting\n",
      "guting\n",
      "guting\n",
      "guting\n",
      "guting\n",
      "guting\n",
      "guting\n",
      "guting\n",
      "guting\n"
     ]
    },
    {
     "ename": "KeyboardInterrupt",
     "evalue": "",
     "output_type": "error",
     "traceback": [
      "\u001b[1;31m---------------------------------------------------------------------------\u001b[0m",
      "\u001b[1;31mKeyboardInterrupt\u001b[0m                         Traceback (most recent call last)",
      "\u001b[1;32m~\\AppData\\Local\\Temp\\ipykernel_171476\\1191771249.py\u001b[0m in \u001b[0;36m<module>\u001b[1;34m\u001b[0m\n\u001b[0;32m     16\u001b[0m         \u001b[0mimage\u001b[0m\u001b[1;33m.\u001b[0m\u001b[0mflags\u001b[0m\u001b[1;33m.\u001b[0m\u001b[0mwriteable\u001b[0m\u001b[1;33m=\u001b[0m \u001b[1;32mFalse\u001b[0m\u001b[1;33m\u001b[0m\u001b[0m\n\u001b[0;32m     17\u001b[0m         \u001b[0mimage\u001b[0m\u001b[1;33m=\u001b[0m\u001b[0mcv2\u001b[0m\u001b[1;33m.\u001b[0m\u001b[0mcvtColor\u001b[0m\u001b[1;33m(\u001b[0m\u001b[0mimage\u001b[0m\u001b[1;33m,\u001b[0m\u001b[0mcv2\u001b[0m\u001b[1;33m.\u001b[0m\u001b[0mCOLOR_BGR2RGB\u001b[0m\u001b[1;33m)\u001b[0m\u001b[1;33m\u001b[0m\u001b[0m\n\u001b[1;32m---> 18\u001b[1;33m         \u001b[0mresults\u001b[0m\u001b[1;33m=\u001b[0m\u001b[0mhands\u001b[0m\u001b[1;33m.\u001b[0m\u001b[0mprocess\u001b[0m\u001b[1;33m(\u001b[0m\u001b[0mimage\u001b[0m\u001b[1;33m)\u001b[0m\u001b[1;33m\u001b[0m\u001b[0m\n\u001b[0m\u001b[0;32m     19\u001b[0m         \u001b[0mimage\u001b[0m\u001b[1;33m.\u001b[0m\u001b[0mflags\u001b[0m\u001b[1;33m.\u001b[0m\u001b[0mwriteable\u001b[0m \u001b[1;33m=\u001b[0m \u001b[1;32mTrue\u001b[0m\u001b[1;33m\u001b[0m\u001b[0m\n\u001b[0;32m     20\u001b[0m         \u001b[0mimage\u001b[0m \u001b[1;33m=\u001b[0m \u001b[0mcv2\u001b[0m\u001b[1;33m.\u001b[0m\u001b[0mcvtColor\u001b[0m\u001b[1;33m(\u001b[0m\u001b[0mimage\u001b[0m\u001b[1;33m,\u001b[0m \u001b[0mcv2\u001b[0m\u001b[1;33m.\u001b[0m\u001b[0mCOLOR_RGB2BGR\u001b[0m\u001b[1;33m)\u001b[0m\u001b[1;33m\u001b[0m\u001b[0m\n",
      "\u001b[1;32mc:\\Users\\putra\\.virtualenvs\\sklearn-VjXFFO8a\\lib\\site-packages\\mediapipe\\python\\solutions\\hands.py\u001b[0m in \u001b[0;36mprocess\u001b[1;34m(self, image)\u001b[0m\n\u001b[0;32m    151\u001b[0m     \"\"\"\n\u001b[0;32m    152\u001b[0m \u001b[1;33m\u001b[0m\u001b[0m\n\u001b[1;32m--> 153\u001b[1;33m     \u001b[1;32mreturn\u001b[0m \u001b[0msuper\u001b[0m\u001b[1;33m(\u001b[0m\u001b[1;33m)\u001b[0m\u001b[1;33m.\u001b[0m\u001b[0mprocess\u001b[0m\u001b[1;33m(\u001b[0m\u001b[0minput_data\u001b[0m\u001b[1;33m=\u001b[0m\u001b[1;33m{\u001b[0m\u001b[1;34m'image'\u001b[0m\u001b[1;33m:\u001b[0m \u001b[0mimage\u001b[0m\u001b[1;33m}\u001b[0m\u001b[1;33m)\u001b[0m\u001b[1;33m\u001b[0m\u001b[0m\n\u001b[0m",
      "\u001b[1;32mc:\\Users\\putra\\.virtualenvs\\sklearn-VjXFFO8a\\lib\\site-packages\\mediapipe\\python\\solution_base.py\u001b[0m in \u001b[0;36mprocess\u001b[1;34m(self, input_data)\u001b[0m\n\u001b[0;32m    363\u001b[0m                                      data).at(self._simulated_timestamp))\n\u001b[0;32m    364\u001b[0m \u001b[1;33m\u001b[0m\u001b[0m\n\u001b[1;32m--> 365\u001b[1;33m     \u001b[0mself\u001b[0m\u001b[1;33m.\u001b[0m\u001b[0m_graph\u001b[0m\u001b[1;33m.\u001b[0m\u001b[0mwait_until_idle\u001b[0m\u001b[1;33m(\u001b[0m\u001b[1;33m)\u001b[0m\u001b[1;33m\u001b[0m\u001b[0m\n\u001b[0m\u001b[0;32m    366\u001b[0m     \u001b[1;31m# Create a NamedTuple object where the field names are mapping to the graph\u001b[0m\u001b[1;33m\u001b[0m\u001b[1;33m\u001b[0m\u001b[0m\n\u001b[0;32m    367\u001b[0m     \u001b[1;31m# output stream names.\u001b[0m\u001b[1;33m\u001b[0m\u001b[1;33m\u001b[0m\u001b[0m\n",
      "\u001b[1;31mKeyboardInterrupt\u001b[0m: "
     ]
    }
   ],
   "source": [
    "cap=cv2.VideoCapture(0)\n",
    "font = cv2.FONT_HERSHEY_COMPLEX_SMALL \n",
    "fontScale = 1.0\n",
    "org = (50, 50)\n",
    "color = (255, 0, 0)\n",
    "thickness = 1.0\n",
    "with mp_hands.Hands(\n",
    "    static_image_mode=True,\n",
    "    max_num_hands=2,\n",
    "    min_detection_confidence=0.5) as hands:\n",
    "    while True:\n",
    "        success, image = cap.read()\n",
    "        if not success:\n",
    "            print(\"Ignoring empty camera frame.\")\n",
    "            continue\n",
    "        image.flags.writeable= False\n",
    "        image=cv2.cvtColor(image,cv2.COLOR_BGR2RGB)\n",
    "        results=hands.process(image)\n",
    "        image.flags.writeable = True\n",
    "        image = cv2.cvtColor(image, cv2.COLOR_RGB2BGR)\n",
    "        if results.multi_hand_landmarks:\n",
    "            for hand_landmarks in results.multi_hand_landmarks:\n",
    "                    mp_drawing.draw_landmarks(\n",
    "                        image,\n",
    "                        hand_landmarks,\n",
    "                        mp_hands.HAND_CONNECTIONS,\n",
    "                        mp_drawing_styles.get_default_hand_landmarks_style(),\n",
    "                        mp_drawing_styles.get_default_hand_connections_style())\n",
    "            temparray=np.array([[i.x,i.y,i.z] for i in results.multi_hand_world_landmarks[0].landmark])\n",
    "            temparray=temparray.reshape((1,63))\n",
    "            image = cv2.putText(image,label[clf.predict(temparray)[0]],org,font,fontScale,color)\n",
    "        cv2.imshow('keluar',image)\n",
    "        if cv2.waitKey(5) & 0xFF == ord('q'):\n",
    "            cap.release()\n",
    "            cv2. destroyAllWindows()\n",
    "            break\n",
    "cap.release()\n",
    "cv2. destroyAllWindows()\n",
    "        "
   ]
  },
  {
   "cell_type": "code",
   "execution_count": 62,
   "metadata": {},
   "outputs": [],
   "source": [
    "cap.release()\n",
    "cv2. destroyAllWindows()\n",
    "        "
   ]
  }
 ],
 "metadata": {
  "kernelspec": {
   "display_name": "sklearn-VjXFFO8a",
   "language": "python",
   "name": "python3"
  },
  "language_info": {
   "codemirror_mode": {
    "name": "ipython",
    "version": 3
   },
   "file_extension": ".py",
   "mimetype": "text/x-python",
   "name": "python",
   "nbconvert_exporter": "python",
   "pygments_lexer": "ipython3",
   "version": "3.7.0"
  },
  "vscode": {
   "interpreter": {
    "hash": "e1e9dbda1b97edfb51205c4d66426f47007615fc843b03a852c883de60236063"
   }
  }
 },
 "nbformat": 4,
 "nbformat_minor": 2
}
