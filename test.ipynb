{
 "cells": [
  {
   "cell_type": "code",
   "execution_count": 201,
   "metadata": {},
   "outputs": [],
   "source": [
    "import os\n",
    "import cv2\n",
    "import time\n",
    "import mediapipe as mp\n",
    "import uuid\n",
    "import keyboard\n",
    "import numpy as np\n",
    "import pandas as pd\n",
    "from sklearn.model_selection import train_test_split\n",
    "from sklearn.ensemble import RandomForestClassifier"
   ]
  },
  {
   "cell_type": "code",
   "execution_count": 210,
   "metadata": {},
   "outputs": [],
   "source": [
    "label=[\"batu\",\"kertas\",\"guting\"]\n",
    "numofimage=20\n",
    "hashmap={\"batu\":0,\"kertas\":1,\"guting\":2}"
   ]
  },
  {
   "cell_type": "code",
   "execution_count": 68,
   "metadata": {},
   "outputs": [],
   "source": [
    "mp_drawing = mp.solutions.drawing_utils\n",
    "mp_drawing_styles = mp.solutions.drawing_styles\n",
    "mp_hands = mp.solutions.hands"
   ]
  },
  {
   "cell_type": "code",
   "execution_count": 5,
   "metadata": {},
   "outputs": [],
   "source": [
    "for labe in label:\n",
    "    os.mkdir(\"./images/{}\".format(labe))"
   ]
  },
  {
   "cell_type": "code",
   "execution_count": 89,
   "metadata": {},
   "outputs": [
    {
     "name": "stdout",
     "output_type": "stream",
     "text": [
      "mencari gambar guting\n",
      "images/guting/gambar1guting.jpg\n"
     ]
    },
    {
     "ename": "KeyboardInterrupt",
     "evalue": "",
     "output_type": "error",
     "traceback": [
      "\u001b[1;31m---------------------------------------------------------------------------\u001b[0m",
      "\u001b[1;31mKeyboardInterrupt\u001b[0m                         Traceback (most recent call last)",
      "\u001b[1;32m~\\AppData\\Local\\Temp\\ipykernel_443940\\3480071996.py\u001b[0m in \u001b[0;36m<module>\u001b[1;34m\u001b[0m\n\u001b[0;32m      9\u001b[0m         \u001b[0mz\u001b[0m\u001b[1;33m=\u001b[0m\u001b[1;36m0\u001b[0m\u001b[1;33m\u001b[0m\u001b[0m\n\u001b[0;32m     10\u001b[0m         \u001b[1;32mwhile\u001b[0m \u001b[0mz\u001b[0m\u001b[1;33m<\u001b[0m\u001b[0mnumofimage\u001b[0m\u001b[1;33m:\u001b[0m\u001b[1;33m\u001b[0m\u001b[0m\n\u001b[1;32m---> 11\u001b[1;33m             \u001b[0msuccess\u001b[0m\u001b[1;33m,\u001b[0m \u001b[0mimage\u001b[0m \u001b[1;33m=\u001b[0m \u001b[0mcap\u001b[0m\u001b[1;33m.\u001b[0m\u001b[0mread\u001b[0m\u001b[1;33m(\u001b[0m\u001b[1;33m)\u001b[0m\u001b[1;33m\u001b[0m\u001b[0m\n\u001b[0m\u001b[0;32m     12\u001b[0m             \u001b[1;32mif\u001b[0m \u001b[1;32mnot\u001b[0m \u001b[0msuccess\u001b[0m\u001b[1;33m:\u001b[0m\u001b[1;33m\u001b[0m\u001b[0m\n\u001b[0;32m     13\u001b[0m                 \u001b[0mprint\u001b[0m\u001b[1;33m(\u001b[0m\u001b[1;34m\"Ignoring empty camera frame.\"\u001b[0m\u001b[1;33m)\u001b[0m\u001b[1;33m\u001b[0m\u001b[0m\n",
      "\u001b[1;31mKeyboardInterrupt\u001b[0m: "
     ]
    }
   ],
   "source": [
    "cap = cv2.VideoCapture(0)\n",
    "\n",
    "with mp_hands.Hands(\n",
    "    static_image_mode=True,\n",
    "    max_num_hands=2,\n",
    "    min_detection_confidence=0.5) as hands:\n",
    "    for labe in label:\n",
    "        print(\"mencari gambar {}\".format(labe))\n",
    "        z=0\n",
    "        while z<numofimage:\n",
    "            success, image = cap.read()\n",
    "            if not success:\n",
    "                print(\"Ignoring empty camera frame.\")\n",
    "                continue\n",
    "            image.flags.writeable= False\n",
    "            mpimg=cv2.cvtColor(image,cv2.COLOR_BGR2RGB)\n",
    "            results=hands.process(mpimg)\n",
    "            image.flags.writeable = True\n",
    "            mpimg = cv2.cvtColor(mpimg, cv2.COLOR_RGB2BGR)\n",
    "            if results.multi_hand_landmarks:\n",
    "                for hand_landmarks in results.multi_hand_landmarks:\n",
    "                        mp_drawing.draw_landmarks(\n",
    "                            mpimg,\n",
    "                            hand_landmarks,\n",
    "                            mp_hands.HAND_CONNECTIONS,\n",
    "                            mp_drawing_styles.get_default_hand_landmarks_style(),\n",
    "                            mp_drawing_styles.get_default_hand_connections_style())\n",
    "            cv2.imshow('keluar',mpimg)\n",
    "            if keyboard.is_pressed('y'):\n",
    "                z=z+1\n",
    "                print(\"images/{}/{}.jpg\".format(labe,\"gambar\"+str(z)+labe))\n",
    "                cv2.imwrite(\"images/{}/{}.jpg\".format(labe,\"gambar\"+str(z)+labe),image)\n",
    "                time.sleep(1)\n",
    "            if cv2.waitKey(5) & 0xFF == ord('q'):\n",
    "                cap.release()\n",
    "                cv2. destroyAllWindows()\n",
    "                break\n",
    "cap.release()\n",
    "cv2. destroyAllWindows()"
   ]
  },
  {
   "cell_type": "code",
   "execution_count": 90,
   "metadata": {},
   "outputs": [],
   "source": [
    "cv2. destroyAllWindows()"
   ]
  },
  {
   "cell_type": "code",
   "execution_count": 30,
   "metadata": {},
   "outputs": [],
   "source": [
    "mp_drawing = mp.solutions.drawing_utils\n",
    "mp_drawing_styles = mp.solutions.drawing_styles\n",
    "mp_hands = mp.solutions.hands"
   ]
  },
  {
   "cell_type": "code",
   "execution_count": 211,
   "metadata": {},
   "outputs": [],
   "source": [
    "array=np.array([],ndmin=3)\n",
    "df_y=pd.DataFrame({'y':pd.Series(dtype='int')})\n"
   ]
  },
  {
   "cell_type": "code",
   "execution_count": 212,
   "metadata": {},
   "outputs": [],
   "source": [
    "with mp_hands.Hands(\n",
    "    static_image_mode=True,\n",
    "    max_num_hands=2,\n",
    "    min_detection_confidence=0.5) as hands:\n",
    "    for k in range(numofimage):\n",
    "        for idx, file in enumerate(label):\n",
    "            # Read an image, flip it around y-axis for correct handedness output (see\n",
    "            # above).\n",
    "            image = cv2.flip(cv2.imread(\"images/{}/{}.jpg\".format(file,\"gambar\"+str(9)+file)),1)\n",
    "            # Convert the BGR image to RGB before processing.\n",
    "            results = hands.process(cv2.cvtColor(image, cv2.COLOR_BGR2RGB))\n",
    "            # Print handedness and draw hand landmarks on the image.\n",
    "            if not results.multi_hand_landmarks:\n",
    "                continue\n",
    "            image_height, image_width, _ = image.shape\n",
    "            annotated_image = image.copy()\n",
    "            temparray=np.array([[i.x,i.y,i.z] for i in results.multi_hand_world_landmarks[0].landmark])\n",
    "            temparray=temparray.reshape((1,63))\n",
    "            array=np.append(array,[temparray])\n",
    "            df_y.loc[len(df_y)]={'y':hashmap[file]}\n",
    "    # Draw hand world landmarks.\n",
    "        \n"
   ]
  },
  {
   "cell_type": "code",
   "execution_count": 213,
   "metadata": {},
   "outputs": [],
   "source": [
    "df_x=pd.DataFrame(array.reshape(array.shape[0]//63,63))"
   ]
  },
  {
   "cell_type": "code",
   "execution_count": 214,
   "metadata": {},
   "outputs": [
    {
     "name": "stdout",
     "output_type": "stream",
     "text": [
      "    y\n",
      "0   0\n",
      "1   1\n",
      "2   2\n",
      "3   0\n",
      "4   1\n",
      "5   2\n",
      "6   0\n",
      "7   1\n",
      "8   2\n",
      "9   0\n",
      "10  1\n",
      "11  2\n",
      "12  0\n",
      "13  1\n",
      "14  2\n",
      "15  0\n",
      "16  1\n",
      "17  2\n",
      "18  0\n",
      "19  1\n",
      "20  2\n",
      "21  0\n",
      "22  1\n",
      "23  2\n",
      "24  0\n",
      "25  1\n",
      "26  2\n",
      "27  0\n",
      "28  1\n",
      "29  2\n",
      "30  0\n",
      "31  1\n",
      "32  2\n",
      "33  0\n",
      "34  1\n",
      "35  2\n",
      "36  0\n",
      "37  1\n",
      "38  2\n",
      "39  0\n",
      "40  1\n",
      "41  2\n",
      "42  0\n",
      "43  1\n",
      "44  2\n",
      "45  0\n",
      "46  1\n",
      "47  2\n",
      "48  0\n",
      "49  1\n",
      "50  2\n",
      "51  0\n",
      "52  1\n",
      "53  2\n",
      "54  0\n",
      "55  1\n",
      "56  2\n",
      "57  0\n",
      "58  1\n",
      "59  2\n"
     ]
    }
   ],
   "source": [
    "print(df_y)"
   ]
  },
  {
   "cell_type": "code",
   "execution_count": 215,
   "metadata": {},
   "outputs": [],
   "source": [
    "X_train,X_test,y_train,y_test=train_test_split(\n",
    "    df_x,df_y,test_size=0.33,random_state=42\n",
    ")"
   ]
  },
  {
   "cell_type": "code",
   "execution_count": 216,
   "metadata": {},
   "outputs": [],
   "source": [
    "clf = RandomForestClassifier(max_depth=2, random_state=0)"
   ]
  },
  {
   "cell_type": "code",
   "execution_count": 218,
   "metadata": {},
   "outputs": [
    {
     "data": {
      "text/plain": [
       "RandomForestClassifier(max_depth=2, random_state=0)"
      ]
     },
     "execution_count": 218,
     "metadata": {},
     "output_type": "execute_result"
    }
   ],
   "source": [
    "clf.fit(X_train,y_train.values.ravel())"
   ]
  },
  {
   "cell_type": "code",
   "execution_count": 219,
   "metadata": {},
   "outputs": [
    {
     "name": "stdout",
     "output_type": "stream",
     "text": [
      "[0 2 0 0 1 0 0 0 0 0 1 2 1 0 1 2 2 0 1 1]\n"
     ]
    }
   ],
   "source": [
    "print(clf.predict(X_test))"
   ]
  },
  {
   "cell_type": "code",
   "execution_count": 221,
   "metadata": {},
   "outputs": [
    {
     "name": "stdout",
     "output_type": "stream",
     "text": [
      "[0 2 0 0 1 0 0 0 0 0 1 2 1 0 1 2 2 0 1 1]\n"
     ]
    }
   ],
   "source": [
    "print(y_test.values.ravel())"
   ]
  },
  {
   "cell_type": "code",
   "execution_count": null,
   "metadata": {},
   "outputs": [],
   "source": []
  }
 ],
 "metadata": {
  "kernelspec": {
   "display_name": "Python 3 (ipykernel)",
   "language": "python",
   "name": "python3"
  },
  "language_info": {
   "codemirror_mode": {
    "name": "ipython",
    "version": 3
   },
   "file_extension": ".py",
   "mimetype": "text/x-python",
   "name": "python",
   "nbconvert_exporter": "python",
   "pygments_lexer": "ipython3",
   "version": "3.7.0"
  },
  "vscode": {
   "interpreter": {
    "hash": "58cd02b8d7cf4b8b77867e34aa222a5754a18ea58e53656d5de4b3904e59d5b7"
   }
  }
 },
 "nbformat": 4,
 "nbformat_minor": 2
}
